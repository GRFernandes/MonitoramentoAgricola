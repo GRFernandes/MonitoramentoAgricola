{
 "cells": [
  {
   "cell_type": "code",
   "execution_count": 70,
   "metadata": {},
   "outputs": [],
   "source": [
    "import cv2 as cv\n",
    "import argparse\n",
    "import numpy as np\n",
    "from skimage.feature import greycomatrix, greycoprops\n",
    "import matplotlib.pyplot as plt\n",
    "from heapq import nlargest\n",
    "import matplotlib.patches as mpatches\n",
    "from scipy.stats import kurtosis, skew\n",
    "\n",
    "def TrataImagem(src,visual,verbose,soildata):\n",
    "    \"\"\"Author: Ellen Giacometti\n",
    "    CRIADO EM: 21/12/2018\n",
    "    ÚLTIMA ATUALIZAÇÃO: 05/02/2019\n",
    "    DESC: Código que recebe uma imagem e extrai os Atributos do limão contido nela\"\"\"\n",
    "    \"\"\" LENDO IMAGEM \"\"\"\n",
    "    # Lendo Imagem\n",
    "    img = src#cv.imread(src)\n",
    "    # Convertendo canal HSV\n",
    "    imgHSV = cv.cvtColor(img, cv.COLOR_BGR2HSV)\n",
    "    # Separando o canal de saturação\n",
    "    h, s, v = cv.split(imgHSV)\n",
    "    \"\"\" EXIBINDO CANAIS \"\"\"\n",
    "    if visual == 1:\n",
    "        fig1, (ax1, ax2, ax3) = plt.subplots(1, 3, figsize=(10, 5), sharex=True, sharey=True)\n",
    "        ax1.axis('off')\n",
    "        ax1.imshow(h, cmap=plt.cm.gray)\n",
    "        ax1.set_title(' h IMAGE')\n",
    "        ax2.axis('off')\n",
    "        ax2.imshow(s, cmap=plt.cm.gray)\n",
    "        ax2.set_title('s IMAGE')\n",
    "        ax3.axis('off')\n",
    "        ax3.imshow(v, cmap=plt.cm.gray)\n",
    "        ax3.set_title('v  IMAGE')\n",
    "        plt.show()\n",
    "    \"\"\" PROCESSAMENTO DA IMAGEM \"\"\"\n",
    "     # Filtro para borrar\n",
    "    s_Blur = cv.blur(s,(5,5))\n",
    "    # Binarizando a imagem\n",
    "    _, s_Thresh = cv.threshold(s_Blur,50,255,cv.THRESH_BINARY)\n",
    "    # Morfologia tamanho do elemento estrutural\n",
    "    block_size = 30\n",
    "    kernel = np.ones((block_size, block_size), np.uint8)\n",
    "    # Executando Dilation e Closing\n",
    "    s_Closing = cv.morphologyEx(s_Thresh, cv.MORPH_CLOSE, kernel)\n",
    "    # Resultado da Máscara em RGB\n",
    "    s_Result = cv.bitwise_and(cv.cvtColor(img, cv.COLOR_BGR2RGB), cv.cvtColor(img, cv.COLOR_BGR2RGB), mask=s_Closing)\n",
    "    \"\"\" PRINTANDO IMAGENS DO PROCESSO   \"\"\"\n",
    "    if visual==1:\n",
    "        fig, (ax1, ax2,ax3,ax4) = plt.subplots(1, 4, figsize=(10, 5), sharex=True, sharey=True)\n",
    "        ax1.axis('off')\n",
    "        ax1.imshow(s_Blur, cmap=plt.cm.gray)\n",
    "        ax1.set_title('s_Blur ')\n",
    "        ax2.axis('off')\n",
    "        ax2.imshow(s_Thresh, cmap=plt.cm.gray)\n",
    "        ax2.set_title('s_Thresh')\n",
    "        ax3.axis('off')\n",
    "        ax3.imshow(s_Closing, cmap=plt.cm.gray)\n",
    "        ax3.set_title('s_Closing')\n",
    "        ax4.axis('off')\n",
    "        ax4.imshow(s_Result, cmap=plt.cm.gray)\n",
    "        ax4.set_title('s_Result')\n",
    "        plt.show()\n",
    "    \"\"\" CRIANDO ROI \"\"\"\n",
    "    # Declarando variável BoundingBox\n",
    "    BoundingBox = np.zeros_like(img)\n",
    "    BoundingBox[s_Closing == 255] = img[s_Closing == 255]\n",
    "    # Definindo pontos para corte\n",
    "    (x, y) = np.where(s_Closing == 255)\n",
    "    (topx, topy) = (np.min(x), np.min(y))\n",
    "    (bottomx, bottomy) = (np.max(x), np.max(y))\n",
    "    # Desprezando a imagem ao redor dos pontos\n",
    "    BoundingBox = BoundingBox[topx:bottomx + 1, topy:bottomy + 1]\n",
    "    # Convertendo para cinza\n",
    "    gray_BoundingBox = cv.cvtColor(BoundingBox, cv.COLOR_RGB2GRAY)\n",
    "    \"\"\" CONTORNO OPENCV \"\"\"\n",
    "    # Capturando contornos\n",
    "    _, contornosCV, _ = cv.findContours(gray_BoundingBox, cv.RETR_EXTERNAL, cv.CHAIN_APPROX_NONE)\n",
    "    # Adquirindo o número de contornos encontrados\n",
    "    tamanho_contornoCV = len(contornosCV)\n",
    "    # Declarando um array para armazenar o tamanho de cada contorno\n",
    "    tamanhoCV = np.empty([tamanho_contornoCV])\n",
    "    for i in range(tamanho_contornoCV):\n",
    "        # Adquirindo o tamanho de cada contorno encontrado\n",
    "        tamanhoCV[i] = contornosCV[i].shape[0]\n",
    "    # Detectando os N maiores contornos e seus indices, alterando N , os N maiores contornos serão armazenados.\n",
    "    maioresCV = nlargest(1, enumerate(tamanhoCV), key=lambda a: a[1])\n",
    "\n",
    "    \"\"\" MEDIDAS LIMÃO - CONTORNO ÚTIL   \"\"\"\n",
    "    contorno_util=contornosCV[maioresCV[0][0]]\n",
    "    M = cv.moments(contorno_util)\n",
    "    cx = int(M['m10'] / M['m00'])\n",
    "    cy = int(M['m01'] / M['m00'])\n",
    "\n",
    "    \"\"\" MEDIDAS CIRCUNFERÊNCIA CIRCUNSCRITA \"\"\"\n",
    "    ((x, y), raio) = cv.minEnclosingCircle(contorno_util)\n",
    "    centroide = (int(x), int(y))\n",
    "    \"\"\" HISTOGRAMA DO CANAL H   \"\"\"\n",
    "    # Mudando os canais da ROI\n",
    "    HSV_BoundingBox = cv.cvtColor(BoundingBox, cv.COLOR_BGR2HSV)\n",
    "    # Separando o canal de saturação\n",
    "    h_BoundingBox, _, _ = cv.split(HSV_BoundingBox)\n",
    "    hist = cv.calcHist([h], [0], s_Closing, [256], [0, 256])\n",
    "    hist = list(map(float, hist[0:255][:]))\n",
    "\n",
    "    \"\"\" TEXTURA:KURTOSIS & SKEWNESS \"\"\"\n",
    "    texture_Kurt = kurtosis(gray_BoundingBox, axis=None)\n",
    "    texture_Skew = skew(gray_BoundingBox, axis=None)\n",
    "    \"\"\"TEXTURA: GLCM\"\"\"\n",
    "    glcm = greycomatrix(gray_BoundingBox, [5], [0], 256, symmetric=True, normed=True)\n",
    "    dissimilarity= greycoprops(glcm, 'dissimilarity')[0, 0]\n",
    "    correlation= greycoprops(glcm, 'correlation')[0, 0]\n",
    "    homogeneity = greycoprops(glcm,'homogeneity')[0, 0]\n",
    "    energy = greycoprops(glcm, 'energy')[0, 0]\n",
    "    contrast= greycoprops(glcm, 'contrast')[0, 0]\n",
    "    ASM = greycoprops(glcm,'ASM')[0,0]\n",
    "\n",
    "    \"\"\"DEBUG VERSION \"\"\"\n",
    "    if(visual==1):\n",
    "        \"\"\"DESENHANDO O CONTORNO E A CIRCUNFERÊNCIA\"\"\"\n",
    "        # fig2, ax = plt.subplots()\n",
    "        # ax.imshow(gray_BoundingBox, interpolation='nearest', cmap=plt.cm.gray)\n",
    "        # for n, contornoCV in enumerate(contornosCV):\n",
    "        #     if (n in (np.transpose(np.asanyarray(maioresCV))[:])):\n",
    "        #         ax.plot(contornoCV[:, 0][:, 0], contornoCV[:, 0][:, 1], '-b', linewidth=2)\n",
    "        #         circulo = mpatches.Circle((x, y), raio, fill=False, edgecolor='red', linewidth=2)\n",
    "        #         ax.add_patch(circulo)\n",
    "        # plt.show()\n",
    "        \"\"\"DESENHANDO HISTOGRAMA\"\"\"\n",
    "        # plt.figure()\n",
    "        # plt.title(\"H Histogram\")\n",
    "        # plt.xlabel(\"Bins\")\n",
    "        # plt.ylabel(\"# of Pixels\")\n",
    "        # plt.plot(hist)\n",
    "        # plt.xlim([0, 256])\n",
    "        # plt.show()\n",
    "\n",
    "    \"\"\"GERANDO RELATÓRIO \"\"\"\n",
    "    if verbose==1:\n",
    "        print(\"\\n---~ INFORMAÇÕES - CONTORNO DO LIMÃO ~---\")\n",
    "        print(\"Número de Contornos Encontrados na Imagem:\", tamanho_contornoCV)\n",
    "        print(\"Perímetro:\", maioresCV[0][1])\n",
    "        print(\"Centróide:(\", cx, \",\", cy, \")\")\n",
    "        print(\"\\n---~ SIZE & SHAPE - CIRCUNFERÊNCIA ~---\")\n",
    "        print(\"Raio:\", raio, \"\\nCentro:\", centroide)\n",
    "        print(\"\\n---~ TEXTURE - KURTOSIS SKEWNESS~---\")\n",
    "        print(\"Kurtosis:\",texture_Kurt,\"\\nSkewness:\",texture_Skew)\n",
    "        print(\"\\n---~ TEXTURE - GLCM~---\")\n",
    "        print(\"Dissimilarity:\",dissimilarity)\n",
    "        print(\"Correlation:\",correlation)\n",
    "        print(\"Homogeneity:\", homogeneity)\n",
    "        print(\"Energy:\", energy)\n",
    "        print(\"Contrast:\", contrast)\n",
    "        print(\"ASM:\", ASM)\n",
    "\n",
    "\n",
    "    #soildata=[Alum,Ca,K,Mg,N,P,pH,C]\n",
    "    return [hist, texture_Kurt, texture_Skew, soildata]"
   ]
  },
  {
   "cell_type": "code",
   "execution_count": 51,
   "metadata": {},
   "outputs": [],
   "source": [
    "import cv2 as cv\n",
    "import numpy as np\n",
    "import pandas as pd\n",
    "import gdal"
   ]
  },
  {
   "cell_type": "code",
   "execution_count": 8,
   "metadata": {},
   "outputs": [],
   "source": [
    "GeoMatrix = gdal.Open(\"0074_stitch2_modificado.tif\")\n",
    "def world2pixel(geoMatrix, posX, posY):\n",
    "\n",
    "    xoffset, px_w, rot1, yoffset, px_h, rot2 = geoMatrix.GetGeoTransform()\n",
    "\n",
    "    x = int((posX - xoffset) / px_w)\n",
    "    y = int((posY - yoffset) / rot2)\n",
    "\n",
    "    return x, y"
   ]
  },
  {
   "cell_type": "code",
   "execution_count": 81,
   "metadata": {},
   "outputs": [
    {
     "data": {
      "text/html": [
       "<div>\n",
       "<style scoped>\n",
       "    .dataframe tbody tr th:only-of-type {\n",
       "        vertical-align: middle;\n",
       "    }\n",
       "\n",
       "    .dataframe tbody tr th {\n",
       "        vertical-align: top;\n",
       "    }\n",
       "\n",
       "    .dataframe thead th {\n",
       "        text-align: right;\n",
       "    }\n",
       "</style>\n",
       "<table border=\"1\" class=\"dataframe\">\n",
       "  <thead>\n",
       "    <tr style=\"text-align: right;\">\n",
       "      <th></th>\n",
       "      <th>X</th>\n",
       "      <th>Y</th>\n",
       "      <th>ALUMÍNIO</th>\n",
       "      <th>Calcio</th>\n",
       "      <th>Potássio</th>\n",
       "      <th>Magnésio</th>\n",
       "      <th>Nitrogênio</th>\n",
       "      <th>Fósforo</th>\n",
       "      <th>pH</th>\n",
       "      <th>Carbono</th>\n",
       "    </tr>\n",
       "  </thead>\n",
       "  <tbody>\n",
       "    <tr>\n",
       "      <th>0</th>\n",
       "      <td>-4861828.76</td>\n",
       "      <td>-2602693.37</td>\n",
       "      <td>0.02</td>\n",
       "      <td>0.94</td>\n",
       "      <td>15</td>\n",
       "      <td>0.28</td>\n",
       "      <td>0.03</td>\n",
       "      <td>17.41</td>\n",
       "      <td>5.50</td>\n",
       "      <td>3.10</td>\n",
       "    </tr>\n",
       "    <tr>\n",
       "      <th>1</th>\n",
       "      <td>-4861838.52</td>\n",
       "      <td>-2602690.34</td>\n",
       "      <td>0.00</td>\n",
       "      <td>0.50</td>\n",
       "      <td>12</td>\n",
       "      <td>0.20</td>\n",
       "      <td>0.01</td>\n",
       "      <td>11.42</td>\n",
       "      <td>6.35</td>\n",
       "      <td>1.30</td>\n",
       "    </tr>\n",
       "    <tr>\n",
       "      <th>2</th>\n",
       "      <td>-4861849.31</td>\n",
       "      <td>-2602684.98</td>\n",
       "      <td>0.00</td>\n",
       "      <td>1.22</td>\n",
       "      <td>22</td>\n",
       "      <td>0.44</td>\n",
       "      <td>0.03</td>\n",
       "      <td>18.16</td>\n",
       "      <td>6.19</td>\n",
       "      <td>3.76</td>\n",
       "    </tr>\n",
       "    <tr>\n",
       "      <th>3</th>\n",
       "      <td>-4861858.19</td>\n",
       "      <td>-2602680.36</td>\n",
       "      <td>0.00</td>\n",
       "      <td>1.53</td>\n",
       "      <td>50</td>\n",
       "      <td>0.63</td>\n",
       "      <td>0.06</td>\n",
       "      <td>24.63</td>\n",
       "      <td>5.93</td>\n",
       "      <td>5.38</td>\n",
       "    </tr>\n",
       "    <tr>\n",
       "      <th>4</th>\n",
       "      <td>-4861868.20</td>\n",
       "      <td>-2602676.63</td>\n",
       "      <td>0.00</td>\n",
       "      <td>1.44</td>\n",
       "      <td>19</td>\n",
       "      <td>0.54</td>\n",
       "      <td>0.05</td>\n",
       "      <td>21.09</td>\n",
       "      <td>5.77</td>\n",
       "      <td>4.90</td>\n",
       "    </tr>\n",
       "  </tbody>\n",
       "</table>\n",
       "</div>"
      ],
      "text/plain": [
       "            X           Y  ALUMÍNIO  Calcio  Potássio  Magnésio  Nitrogênio  \\\n",
       "0 -4861828.76 -2602693.37      0.02    0.94        15      0.28        0.03   \n",
       "1 -4861838.52 -2602690.34      0.00    0.50        12      0.20        0.01   \n",
       "2 -4861849.31 -2602684.98      0.00    1.22        22      0.44        0.03   \n",
       "3 -4861858.19 -2602680.36      0.00    1.53        50      0.63        0.06   \n",
       "4 -4861868.20 -2602676.63      0.00    1.44        19      0.54        0.05   \n",
       "\n",
       "   Fósforo    pH  Carbono  \n",
       "0    17.41  5.50     3.10  \n",
       "1    11.42  6.35     1.30  \n",
       "2    18.16  6.19     3.76  \n",
       "3    24.63  5.93     5.38  \n",
       "4    21.09  5.77     4.90  "
      ]
     },
     "execution_count": 81,
     "metadata": {},
     "output_type": "execute_result"
    }
   ],
   "source": [
    "data = pd.read_csv('Sensores.csv',delimiter=';',encoding=\"ISO-8859-1\")\n",
    "data.head()"
   ]
  },
  {
   "cell_type": "code",
   "execution_count": 84,
   "metadata": {},
   "outputs": [],
   "source": [
    "df=pd.DataFrame(data)"
   ]
  },
  {
   "cell_type": "code",
   "execution_count": 85,
   "metadata": {},
   "outputs": [],
   "source": [
    "coordx=np.array(df['X'])\n",
    "coordy=np.array(df['Y'])"
   ]
  },
  {
   "cell_type": "code",
   "execution_count": 86,
   "metadata": {},
   "outputs": [],
   "source": [
    "pixels=list() \n",
    "listx=list() \n",
    "listy=list()\n",
    "for i in range(len(coordx)):\n",
    "    x, y = world2pixel(GeoMatrix,coordx[i],coordy[i])\n",
    "    pixels.append([x,y])\n",
    "    listx.append(x)\n",
    "    listy.append(y)"
   ]
  },
  {
   "cell_type": "code",
   "execution_count": 87,
   "metadata": {},
   "outputs": [
    {
     "data": {
      "text/plain": [
       "192"
      ]
     },
     "execution_count": 87,
     "metadata": {},
     "output_type": "execute_result"
    }
   ],
   "source": [
    "len(pixels)"
   ]
  },
  {
   "cell_type": "code",
   "execution_count": 43,
   "metadata": {},
   "outputs": [],
   "source": [
    "df['px']=np.array(listx)\n",
    "df['py']=np.array(listy)"
   ]
  },
  {
   "cell_type": "code",
   "execution_count": 88,
   "metadata": {},
   "outputs": [],
   "source": [
    "df.to_csv('Sensores_pixel.csv', sep=';')"
   ]
  },
  {
   "cell_type": "code",
   "execution_count": 58,
   "metadata": {},
   "outputs": [
    {
     "data": {
      "text/plain": [
       "array([ 0.02,  0.94, 15.  ,  0.28,  0.03, 17.41,  5.5 ,  3.1 ])"
      ]
     },
     "execution_count": 58,
     "metadata": {},
     "output_type": "execute_result"
    }
   ],
   "source": [
    "np.array(df.iloc[0,2:10])"
   ]
  },
  {
   "cell_type": "code",
   "execution_count": 89,
   "metadata": {},
   "outputs": [
    {
     "name": "stdout",
     "output_type": "stream",
     "text": [
      "Deu merda!\n",
      "Deu merda!\n",
      "Deu merda!\n",
      "Deu merda!\n",
      "Deu merda!\n",
      "Deu merda!\n",
      "Deu merda!\n",
      "Deu merda!\n",
      "Deu merda!\n",
      "Deu merda!\n",
      "Deu merda!\n",
      "Deu merda!\n",
      "Deu merda!\n",
      "Deu merda!\n",
      "Deu merda!\n",
      "Deu merda!\n",
      "Deu merda!\n",
      "Deu merda!\n",
      "Deu merda!\n",
      "Deu merda!\n",
      "Deu merda!\n",
      "Deu merda!\n",
      "Deu merda!\n",
      "Deu merda!\n",
      "Deu merda!\n",
      "Deu merda!\n",
      "Deu merda!\n",
      "Deu merda!\n",
      "Deu merda!\n",
      "Deu merda!\n",
      "Deu merda!\n",
      "Deu merda!\n",
      "Deu merda!\n",
      "Deu merda!\n",
      "Deu merda!\n",
      "Deu merda!\n",
      "Deu merda!\n",
      "Deu merda!\n",
      "Deu merda!\n",
      "Deu merda!\n",
      "Deu merda!\n",
      "Deu merda!\n",
      "Deu merda!\n",
      "Deu merda!\n",
      "Deu merda!\n",
      "Deu merda!\n",
      "Deu merda!\n",
      "Deu merda!\n",
      "Deu merda!\n",
      "Deu merda!\n"
     ]
    }
   ],
   "source": [
    "img = cv.imread('0074_stitch2_modificado.tif')\n",
    "Features=list()\n",
    "space=10\n",
    "cont=0\n",
    "for i in range(len(coordx)):\n",
    "    try:\n",
    "        corte=img[listx[i]-space:listx[i]+space,listy[i]-space:listy[i]+space]\n",
    "        hist, texture_Kurt, texture_Skew, soildata = TrataImagem(corte,visual=0,verbose=0,soildata=np.array(df.iloc[i,2:10]))\n",
    "        Features.append([hist, texture_Kurt, texture_Skew, soildata])\n",
    "    except:\n",
    "        print(\"Deu merda!\")\n",
    "        cont=cont+1"
   ]
  },
  {
   "cell_type": "code",
   "execution_count": 90,
   "metadata": {},
   "outputs": [
    {
     "data": {
      "text/plain": [
       "50"
      ]
     },
     "execution_count": 90,
     "metadata": {},
     "output_type": "execute_result"
    }
   ],
   "source": [
    "cont"
   ]
  },
  {
   "cell_type": "code",
   "execution_count": 93,
   "metadata": {},
   "outputs": [
    {
     "data": {
      "text/plain": [
       "142"
      ]
     },
     "execution_count": 93,
     "metadata": {},
     "output_type": "execute_result"
    }
   ],
   "source": [
    "len(Features)"
   ]
  },
  {
   "cell_type": "code",
   "execution_count": 92,
   "metadata": {},
   "outputs": [
    {
     "data": {
      "text/plain": [
       "192"
      ]
     },
     "execution_count": 92,
     "metadata": {},
     "output_type": "execute_result"
    }
   ],
   "source": [
    "len(coordx)"
   ]
  },
  {
   "cell_type": "code",
   "execution_count": 79,
   "metadata": {},
   "outputs": [
    {
     "data": {
      "text/plain": [
       "<function matplotlib.pyplot.show(*args, **kw)>"
      ]
     },
     "execution_count": 79,
     "metadata": {},
     "output_type": "execute_result"
    },
    {
     "data": {
      "image/png": "[encoded data removed]",
      "text/plain": [
       "<Figure size 432x288 with 1 Axes>"
      ]
     },
     "metadata": {
      "needs_background": "light"
     },
     "output_type": "display_data"
    }
   ],
   "source": [
    "import matplotlib.pyplot as plt\n",
    "plt.plot(listy, listx,'o')\n",
    "plt.show"
   ]
  },
  {
   "cell_type": "code",
   "execution_count": 108,
   "metadata": {},
   "outputs": [],
   "source": [
    "v=np.random.randint(0,142,43)\n",
    "teste=[]\n",
    "for i in v:\n",
    "    if i not in teste:\n",
    "        teste.append(i)\n",
    "    else:\n",
    "        while i in teste:\n",
    "            i=i+1\n",
    "            if i==141: \n",
    "                i=0"
   ]
  },
  {
   "cell_type": "code",
   "execution_count": 113,
   "metadata": {},
   "outputs": [
    {
     "ename": "TypeError",
     "evalue": "only integer scalar arrays can be converted to a scalar index",
     "output_type": "error",
     "traceback": [
      "\u001b[1;31m---------------------------------------------------------------------------\u001b[0m",
      "\u001b[1;31mTypeError\u001b[0m                                 Traceback (most recent call last)",
      "\u001b[1;32m<ipython-input-113-11c262301d5b>\u001b[0m in \u001b[0;36m<module>\u001b[1;34m\u001b[0m\n\u001b[1;32m----> 1\u001b[1;33m \u001b[0mFeatures\u001b[0m\u001b[1;33m[\u001b[0m\u001b[0mnp\u001b[0m\u001b[1;33m.\u001b[0m\u001b[0marray\u001b[0m\u001b[1;33m(\u001b[0m\u001b[0mteste\u001b[0m\u001b[1;33m)\u001b[0m\u001b[1;33m]\u001b[0m\u001b[1;33m\u001b[0m\u001b[1;33m\u001b[0m\u001b[0m\n\u001b[0m",
      "\u001b[1;31mTypeError\u001b[0m: only integer scalar arrays can be converted to a scalar index"
     ]
    }
   ],
   "source": [
    "Features[np.array(teste)]"
   ]
  },
  {
   "cell_type": "code",
   "execution_count": 115,
   "metadata": {},
   "outputs": [
    {
     "data": {
      "text/plain": [
       "array([135,  21,  27,  14,  64,  76,  26, 122,  74, 120, 113,  96,  35,\n",
       "       101,   9,  16,  88,  62,  11,  68,   6,  65,  30,  38,  47, 103,\n",
       "        93,  92,  46,  91, 107,   8,  24,  20,  54, 130, 119, 108,  94])"
      ]
     },
     "execution_count": 115,
     "metadata": {},
     "output_type": "execute_result"
    }
   ],
   "source": [
    "np.array(teste)"
   ]
  },
  {
   "cell_type": "code",
   "execution_count": 121,
   "metadata": {},
   "outputs": [],
   "source": [
    "FeaturesTest=[]\n",
    "FeaturesTrain=[]\n",
    "for i in range(len(Features)):\n",
    "    if i in teste:\n",
    "        FeaturesTest.append(Features[i])\n",
    "    else:\n",
    "        FeaturesTrain.append(Features[i])"
   ]
  },
  {
   "cell_type": "code",
   "execution_count": 123,
   "metadata": {},
   "outputs": [
    {
     "data": {
      "text/plain": [
       "39"
      ]
     },
     "execution_count": 123,
     "metadata": {},
     "output_type": "execute_result"
    }
   ],
   "source": [
    "len(FeaturesTest)"
   ]
  },
  {
   "cell_type": "code",
   "execution_count": 124,
   "metadata": {},
   "outputs": [
    {
     "data": {
      "text/plain": [
       "103"
      ]
     },
     "execution_count": 124,
     "metadata": {},
     "output_type": "execute_result"
    }
   ],
   "source": [
    "len(FeaturesTrain)"
   ]
  },
  {
   "cell_type": "markdown",
   "metadata": {},
   "source": [
    "# Trainamento"
   ]
  },
  {
   "cell_type": "code",
   "execution_count": 126,
   "metadata": {},
   "outputs": [],
   "source": [
    "from sklearn.ensemble import RandomForestClassifier\n",
    "from numpy.core.multiarray import ndarray\n",
    "from sklearn.metrics import accuracy_score\n",
    "from sklearn.metrics import confusion_matrix\n",
    "\n",
    "class InternalRandomForest(object):\n",
    "    \"\"\"\n",
    "    Random Forest Training Class using previously preparated dataset.\n",
    "    \"\"\"\n",
    "\n",
    "    @staticmethod\n",
    "    def modeltrain(features: ndarray, target: ndarray, number_trees: int) -> RandomForestClassifier:\n",
    "        \"\"\"\n",
    "        Method to create and fit a new trained RF model by a known number of trees\n",
    "        Args:\n",
    "            features                         (ndarray): Array of dataset features (samples).\n",
    "            target                           (ndarray): Array of dataset targets (species).\n",
    "            number_trees                     (int): Number of trees to train classifier.\n",
    "        Returns:\n",
    "            trained_model                    (object): Trained RandomForestClassifier object.\n",
    "        \"\"\"\n",
    "\n",
    "        trained_model = RandomForestClassifier(number_trees)\n",
    "        trained_model.fit(features, target)\n",
    "\n",
    "        return trained_model\n",
    "\n",
    "    @staticmethod\n",
    "    def getbestnumberoftrees(features: ndarray, target: ndarray, limit:int) -> tuple:\n",
    "        \"\"\"\n",
    "        Method to know the number of trees that generate the best training\n",
    "        using the ACCURACY method of Random Forest\n",
    "        Args:\n",
    "            features                         (ndarray): Array of dataset features (samples).\n",
    "            target                           (ndarray): Array of dataset targets (species).\n",
    "            limit                            (int): Limit of number of trees to train and obtain best number trees.\n",
    "        Returns:\n",
    "            bestNumberTrees                  (int): Best number of trees in training.\n",
    "            accuracyList                     (list): List of accuracies obtained during training sets.\n",
    "            best_model                       (object): Model trained with best number of trees.\n",
    "        \"\"\"\n",
    "\n",
    "        # Defining the initial accuracy value to compare with different number of trees in training\n",
    "        accuracy = 0\n",
    "        accuracyList = []\n",
    "\n",
    "        for n in range(1, limit+1, 1):\n",
    "            # Training\n",
    "            trained_model = InternalRandomForest.modeltrain(features, target, n)\n",
    "\n",
    "            # Calculating the percentual accuracy of the training\n",
    "            accuracy_t = accuracy_score(target, trained_model.predict(features), normalize=True)\n",
    "\n",
    "            # Build accuracy array for this set of number of trees\n",
    "            accuracyList.append(accuracy_t)\n",
    "\n",
    "            # Verifying if the current training is better than the last one\n",
    "            if accuracy_t > accuracy:\n",
    "                bestNumberTrees = n\n",
    "                accuracy = accuracy_t\n",
    "\n",
    "        # Obtain best trained model\n",
    "        best_model = InternalRandomForest.modeltrain(features, target, bestNumberTrees)\n",
    "\n",
    "        return bestNumberTrees, accuracyList, best_model\n",
    "\n",
    "    @staticmethod\n",
    "    def gethitscm(features: ndarray, target: ndarray, trained_model) -> tuple:\n",
    "        \"\"\"\n",
    "        Method to know the global hits and the hits of the true objects using\n",
    "        the Confusion Matrix\n",
    "        Args:\n",
    "            features                         (ndarray): Array of dataset features (samples).\n",
    "            target                           (ndarray): Array of dataset targets (species).\n",
    "            trained_model                    (object): Trained RandomForestClassifier object.\n",
    "        Returns:\n",
    "            global_hits                      (list): Global hits in CM.\n",
    "            true_hits                        (list): True hits in CM.\n",
    "        \"\"\"\n",
    "        # Generating the Confusion Matrix\n",
    "        predictions = trained_model.predict(features)\n",
    "\n",
    "        cm = confusion_matrix(target, predictions)\n",
    "\n",
    "        # Calculating the global hits\n",
    "        global_hits = (cm[0, 0] + cm[1, 1]) / (cm[0, 0] + cm[1, 1] + cm[1, 0] + cm[0, 1])\n",
    "        true_hits = cm[1, 1] / (cm[1, 0] + cm[1, 1])\n",
    "\n",
    "        return (cm, global_hits, true_hits)\n",
    "\n",
    "    @staticmethod\n",
    "    def getaccuracy(features: ndarray, target: ndarray, trained_model) -> float:\n",
    "        \"\"\"\n",
    "        Method to get accuracy from a previously trained model, applying features and samples from test dataset.\n",
    "        Args:\n",
    "            features                         (ndarray): Array of test dataset features (samples).\n",
    "            target                           (ndarray): Array of test dataset targets (species).\n",
    "            trained_model                    (object): Trained RandomForestClassifier object.\n",
    "        Returns:\n",
    "            accuracy                         (float): Accuracy of Test\n",
    "        \"\"\"\n",
    "        predictions = trained_model.predict(features)\n",
    "\n",
    "        accuracy = accuracy_score(target, predictions, normalize=True)\n",
    "\n",
    "        return accuracy"
   ]
  },
  {
   "cell_type": "code",
   "execution_count": 127,
   "metadata": {},
   "outputs": [],
   "source": [
    "import time\n",
    "from sys import path, platform\n",
    "from os import getcwd\n",
    "from numpy import load\n",
    "from numpy import arange\n",
    "from numpy import linspace\n",
    "from sklearn.externals import joblib\n",
    "from matplotlib import pyplot as plt\n",
    "from scipy.interpolate import interp1d"
   ]
  },
  {
   "cell_type": "code",
   "execution_count": 128,
   "metadata": {},
   "outputs": [],
   "source": [
    "rf = InternalRandomForest()"
   ]
  },
  {
   "cell_type": "code",
   "execution_count": 130,
   "metadata": {},
   "outputs": [
    {
     "data": {
      "text/html": [
       "<div>\n",
       "<style scoped>\n",
       "    .dataframe tbody tr th:only-of-type {\n",
       "        vertical-align: middle;\n",
       "    }\n",
       "\n",
       "    .dataframe tbody tr th {\n",
       "        vertical-align: top;\n",
       "    }\n",
       "\n",
       "    .dataframe thead th {\n",
       "        text-align: right;\n",
       "    }\n",
       "</style>\n",
       "<table border=\"1\" class=\"dataframe\">\n",
       "  <thead>\n",
       "    <tr style=\"text-align: right;\">\n",
       "      <th></th>\n",
       "      <th>0</th>\n",
       "      <th>1</th>\n",
       "      <th>2</th>\n",
       "      <th>3</th>\n",
       "    </tr>\n",
       "  </thead>\n",
       "  <tbody>\n",
       "    <tr>\n",
       "      <th>0</th>\n",
       "      <td>[0.0, 0.0, 0.0, 0.0, 0.0, 0.0, 0.0, 0.0, 0.0, ...</td>\n",
       "      <td>1.101072</td>\n",
       "      <td>-0.921257</td>\n",
       "      <td>[0.0, 1.22, 22.0, 0.44, 0.03, 18.16, 6.19, 3.76]</td>\n",
       "    </tr>\n",
       "    <tr>\n",
       "      <th>1</th>\n",
       "      <td>[0.0, 0.0, 0.0, 0.0, 0.0, 0.0, 0.0, 0.0, 0.0, ...</td>\n",
       "      <td>-0.589769</td>\n",
       "      <td>-0.124244</td>\n",
       "      <td>[0.0, 1.53, 50.0, 0.63, 0.06, 24.63, 5.93, 5.38]</td>\n",
       "    </tr>\n",
       "    <tr>\n",
       "      <th>2</th>\n",
       "      <td>[0.0, 0.0, 0.0, 0.0, 0.0, 0.0, 0.0, 0.0, 0.0, ...</td>\n",
       "      <td>-0.210732</td>\n",
       "      <td>-0.570403</td>\n",
       "      <td>[0.0, 1.44, 19.0, 0.54, 0.05, 21.09, 5.77, 4.9]</td>\n",
       "    </tr>\n",
       "    <tr>\n",
       "      <th>3</th>\n",
       "      <td>[0.0, 0.0, 0.0, 0.0, 0.0, 0.0, 0.0, 0.0, 0.0, ...</td>\n",
       "      <td>-0.574273</td>\n",
       "      <td>0.605160</td>\n",
       "      <td>[0.0, 1.27, 48.0, 0.56, 0.04, 10.61, 6.34, 3.7]</td>\n",
       "    </tr>\n",
       "    <tr>\n",
       "      <th>4</th>\n",
       "      <td>[0.0, 0.0, 0.0, 0.0, 0.0, 0.0, 0.0, 0.0, 0.0, ...</td>\n",
       "      <td>-0.653816</td>\n",
       "      <td>0.121899</td>\n",
       "      <td>[0.05, 0.54, 7.0, 0.15, 0.02, 6.38, 5.11, 3.16]</td>\n",
       "    </tr>\n",
       "  </tbody>\n",
       "</table>\n",
       "</div>"
      ],
      "text/plain": [
       "                                                   0         1         2  \\\n",
       "0  [0.0, 0.0, 0.0, 0.0, 0.0, 0.0, 0.0, 0.0, 0.0, ...  1.101072 -0.921257   \n",
       "1  [0.0, 0.0, 0.0, 0.0, 0.0, 0.0, 0.0, 0.0, 0.0, ... -0.589769 -0.124244   \n",
       "2  [0.0, 0.0, 0.0, 0.0, 0.0, 0.0, 0.0, 0.0, 0.0, ... -0.210732 -0.570403   \n",
       "3  [0.0, 0.0, 0.0, 0.0, 0.0, 0.0, 0.0, 0.0, 0.0, ... -0.574273  0.605160   \n",
       "4  [0.0, 0.0, 0.0, 0.0, 0.0, 0.0, 0.0, 0.0, 0.0, ... -0.653816  0.121899   \n",
       "\n",
       "                                                  3  \n",
       "0  [0.0, 1.22, 22.0, 0.44, 0.03, 18.16, 6.19, 3.76]  \n",
       "1  [0.0, 1.53, 50.0, 0.63, 0.06, 24.63, 5.93, 5.38]  \n",
       "2   [0.0, 1.44, 19.0, 0.54, 0.05, 21.09, 5.77, 4.9]  \n",
       "3   [0.0, 1.27, 48.0, 0.56, 0.04, 10.61, 6.34, 3.7]  \n",
       "4   [0.05, 0.54, 7.0, 0.15, 0.02, 6.38, 5.11, 3.16]  "
      ]
     },
     "execution_count": 130,
     "metadata": {},
     "output_type": "execute_result"
    }
   ],
   "source": [
    "quadro=pd.DataFrame(FeaturesTrain)\n",
    "quadro.head()"
   ]
  },
  {
   "cell_type": "code",
   "execution_count": 228,
   "metadata": {},
   "outputs": [],
   "source": [
    "#Al=0 Ca=1 K=2 Mg=3 N=4 P=5 pH=6 C=7\n",
    "\n",
    "ind=0\n",
    "t=[]\n",
    "for i in range(len(quadro[3])):\n",
    "    t.append(np.array(quadro[3])[i][ind])\n",
    "targets=np.array(t).reshape(103,1)\n",
    "a=np.array(quadro[0]).reshape(103,1)\n",
    "b=np.array(quadro[1]).reshape(103,1)\n",
    "c=np.array(quadro[2]).reshape(103,1)\n",
    "feat=np.hstack((a,b,c))"
   ]
  },
  {
   "cell_type": "code",
   "execution_count": 242,
   "metadata": {},
   "outputs": [],
   "source": [
    "dfeat=dict(zip(np.array(range(103)),feat))\n",
    "dtargets=dict(zip(np.array(range(103)),targets))"
   ]
  },
  {
   "cell_type": "code",
   "execution_count": null,
   "metadata": {},
   "outputs": [],
   "source": []
  },
  {
   "cell_type": "code",
   "execution_count": null,
   "metadata": {},
   "outputs": [],
   "source": []
  },
  {
   "cell_type": "code",
   "execution_count": null,
   "metadata": {},
   "outputs": [],
   "source": []
  },
  {
   "cell_type": "code",
   "execution_count": null,
   "metadata": {},
   "outputs": [],
   "source": []
  },
  {
   "cell_type": "code",
   "execution_count": null,
   "metadata": {},
   "outputs": [],
   "source": []
  },
  {
   "cell_type": "code",
   "execution_count": 246,
   "metadata": {},
   "outputs": [
    {
     "ename": "ValueError",
     "evalue": "setting an array element with a sequence.",
     "output_type": "error",
     "traceback": [
      "\u001b[1;31m---------------------------------------------------------------------------\u001b[0m",
      "\u001b[1;31mValueError\u001b[0m                                Traceback (most recent call last)",
      "\u001b[1;32m<ipython-input-246-1fdaa423b825>\u001b[0m in \u001b[0;36m<module>\u001b[1;34m\u001b[0m\n\u001b[0;32m      1\u001b[0m \u001b[0mtreeLimit\u001b[0m \u001b[1;33m=\u001b[0m \u001b[1;36m5\u001b[0m\u001b[1;33m\u001b[0m\u001b[1;33m\u001b[0m\u001b[0m\n\u001b[1;32m----> 2\u001b[1;33m \u001b[0mbestNumberTrees\u001b[0m\u001b[1;33m,\u001b[0m \u001b[0maccuracy\u001b[0m\u001b[1;33m,\u001b[0m \u001b[0mbestModel\u001b[0m \u001b[1;33m=\u001b[0m \u001b[0mrf\u001b[0m\u001b[1;33m.\u001b[0m\u001b[0mgetbestnumberoftrees\u001b[0m\u001b[1;33m(\u001b[0m\u001b[0mfeat\u001b[0m\u001b[1;33m,\u001b[0m \u001b[0mtargets\u001b[0m\u001b[1;33m,\u001b[0m \u001b[0mtreeLimit\u001b[0m\u001b[1;33m)\u001b[0m\u001b[1;33m\u001b[0m\u001b[1;33m\u001b[0m\u001b[0m\n\u001b[0m",
      "\u001b[1;32m<ipython-input-126-5338eeedddb1>\u001b[0m in \u001b[0;36mgetbestnumberoftrees\u001b[1;34m(features, target, limit)\u001b[0m\n\u001b[0;32m     47\u001b[0m         \u001b[1;32mfor\u001b[0m \u001b[0mn\u001b[0m \u001b[1;32min\u001b[0m \u001b[0mrange\u001b[0m\u001b[1;33m(\u001b[0m\u001b[1;36m1\u001b[0m\u001b[1;33m,\u001b[0m \u001b[0mlimit\u001b[0m\u001b[1;33m+\u001b[0m\u001b[1;36m1\u001b[0m\u001b[1;33m,\u001b[0m \u001b[1;36m1\u001b[0m\u001b[1;33m)\u001b[0m\u001b[1;33m:\u001b[0m\u001b[1;33m\u001b[0m\u001b[1;33m\u001b[0m\u001b[0m\n\u001b[0;32m     48\u001b[0m             \u001b[1;31m# Training\u001b[0m\u001b[1;33m\u001b[0m\u001b[1;33m\u001b[0m\u001b[1;33m\u001b[0m\u001b[0m\n\u001b[1;32m---> 49\u001b[1;33m             \u001b[0mtrained_model\u001b[0m \u001b[1;33m=\u001b[0m \u001b[0mInternalRandomForest\u001b[0m\u001b[1;33m.\u001b[0m\u001b[0mmodeltrain\u001b[0m\u001b[1;33m(\u001b[0m\u001b[0mfeatures\u001b[0m\u001b[1;33m,\u001b[0m \u001b[0mtarget\u001b[0m\u001b[1;33m,\u001b[0m \u001b[0mn\u001b[0m\u001b[1;33m)\u001b[0m\u001b[1;33m\u001b[0m\u001b[1;33m\u001b[0m\u001b[0m\n\u001b[0m\u001b[0;32m     50\u001b[0m \u001b[1;33m\u001b[0m\u001b[0m\n\u001b[0;32m     51\u001b[0m             \u001b[1;31m# Calculating the percentual accuracy of the training\u001b[0m\u001b[1;33m\u001b[0m\u001b[1;33m\u001b[0m\u001b[1;33m\u001b[0m\u001b[0m\n",
      "\u001b[1;32m<ipython-input-126-5338eeedddb1>\u001b[0m in \u001b[0;36mmodeltrain\u001b[1;34m(features, target, number_trees)\u001b[0m\n\u001b[0;32m     22\u001b[0m \u001b[1;33m\u001b[0m\u001b[0m\n\u001b[0;32m     23\u001b[0m         \u001b[0mtrained_model\u001b[0m \u001b[1;33m=\u001b[0m \u001b[0mRandomForestClassifier\u001b[0m\u001b[1;33m(\u001b[0m\u001b[0mnumber_trees\u001b[0m\u001b[1;33m)\u001b[0m\u001b[1;33m\u001b[0m\u001b[1;33m\u001b[0m\u001b[0m\n\u001b[1;32m---> 24\u001b[1;33m         \u001b[0mtrained_model\u001b[0m\u001b[1;33m.\u001b[0m\u001b[0mfit\u001b[0m\u001b[1;33m(\u001b[0m\u001b[0mfeatures\u001b[0m\u001b[1;33m,\u001b[0m \u001b[0mtarget\u001b[0m\u001b[1;33m)\u001b[0m\u001b[1;33m\u001b[0m\u001b[1;33m\u001b[0m\u001b[0m\n\u001b[0m\u001b[0;32m     25\u001b[0m \u001b[1;33m\u001b[0m\u001b[0m\n\u001b[0;32m     26\u001b[0m         \u001b[1;32mreturn\u001b[0m \u001b[0mtrained_model\u001b[0m\u001b[1;33m\u001b[0m\u001b[1;33m\u001b[0m\u001b[0m\n",
      "\u001b[1;32m~\\Anaconda3\\lib\\site-packages\\sklearn\\ensemble\\forest.py\u001b[0m in \u001b[0;36mfit\u001b[1;34m(self, X, y, sample_weight)\u001b[0m\n\u001b[0;32m    248\u001b[0m \u001b[1;33m\u001b[0m\u001b[0m\n\u001b[0;32m    249\u001b[0m         \u001b[1;31m# Validate or convert input data\u001b[0m\u001b[1;33m\u001b[0m\u001b[1;33m\u001b[0m\u001b[1;33m\u001b[0m\u001b[0m\n\u001b[1;32m--> 250\u001b[1;33m         \u001b[0mX\u001b[0m \u001b[1;33m=\u001b[0m \u001b[0mcheck_array\u001b[0m\u001b[1;33m(\u001b[0m\u001b[0mX\u001b[0m\u001b[1;33m,\u001b[0m \u001b[0maccept_sparse\u001b[0m\u001b[1;33m=\u001b[0m\u001b[1;34m\"csc\"\u001b[0m\u001b[1;33m,\u001b[0m \u001b[0mdtype\u001b[0m\u001b[1;33m=\u001b[0m\u001b[0mDTYPE\u001b[0m\u001b[1;33m)\u001b[0m\u001b[1;33m\u001b[0m\u001b[1;33m\u001b[0m\u001b[0m\n\u001b[0m\u001b[0;32m    251\u001b[0m         \u001b[0my\u001b[0m \u001b[1;33m=\u001b[0m \u001b[0mcheck_array\u001b[0m\u001b[1;33m(\u001b[0m\u001b[0my\u001b[0m\u001b[1;33m,\u001b[0m \u001b[0maccept_sparse\u001b[0m\u001b[1;33m=\u001b[0m\u001b[1;34m'csc'\u001b[0m\u001b[1;33m,\u001b[0m \u001b[0mensure_2d\u001b[0m\u001b[1;33m=\u001b[0m\u001b[1;32mFalse\u001b[0m\u001b[1;33m,\u001b[0m \u001b[0mdtype\u001b[0m\u001b[1;33m=\u001b[0m\u001b[1;32mNone\u001b[0m\u001b[1;33m)\u001b[0m\u001b[1;33m\u001b[0m\u001b[1;33m\u001b[0m\u001b[0m\n\u001b[0;32m    252\u001b[0m         \u001b[1;32mif\u001b[0m \u001b[0msample_weight\u001b[0m \u001b[1;32mis\u001b[0m \u001b[1;32mnot\u001b[0m \u001b[1;32mNone\u001b[0m\u001b[1;33m:\u001b[0m\u001b[1;33m\u001b[0m\u001b[1;33m\u001b[0m\u001b[0m\n",
      "\u001b[1;32m~\\Anaconda3\\lib\\site-packages\\sklearn\\utils\\validation.py\u001b[0m in \u001b[0;36mcheck_array\u001b[1;34m(array, accept_sparse, accept_large_sparse, dtype, order, copy, force_all_finite, ensure_2d, allow_nd, ensure_min_samples, ensure_min_features, warn_on_dtype, estimator)\u001b[0m\n\u001b[0;32m    525\u001b[0m             \u001b[1;32mtry\u001b[0m\u001b[1;33m:\u001b[0m\u001b[1;33m\u001b[0m\u001b[1;33m\u001b[0m\u001b[0m\n\u001b[0;32m    526\u001b[0m                 \u001b[0mwarnings\u001b[0m\u001b[1;33m.\u001b[0m\u001b[0msimplefilter\u001b[0m\u001b[1;33m(\u001b[0m\u001b[1;34m'error'\u001b[0m\u001b[1;33m,\u001b[0m \u001b[0mComplexWarning\u001b[0m\u001b[1;33m)\u001b[0m\u001b[1;33m\u001b[0m\u001b[1;33m\u001b[0m\u001b[0m\n\u001b[1;32m--> 527\u001b[1;33m                 \u001b[0marray\u001b[0m \u001b[1;33m=\u001b[0m \u001b[0mnp\u001b[0m\u001b[1;33m.\u001b[0m\u001b[0masarray\u001b[0m\u001b[1;33m(\u001b[0m\u001b[0marray\u001b[0m\u001b[1;33m,\u001b[0m \u001b[0mdtype\u001b[0m\u001b[1;33m=\u001b[0m\u001b[0mdtype\u001b[0m\u001b[1;33m,\u001b[0m \u001b[0morder\u001b[0m\u001b[1;33m=\u001b[0m\u001b[0morder\u001b[0m\u001b[1;33m)\u001b[0m\u001b[1;33m\u001b[0m\u001b[1;33m\u001b[0m\u001b[0m\n\u001b[0m\u001b[0;32m    528\u001b[0m             \u001b[1;32mexcept\u001b[0m \u001b[0mComplexWarning\u001b[0m\u001b[1;33m:\u001b[0m\u001b[1;33m\u001b[0m\u001b[1;33m\u001b[0m\u001b[0m\n\u001b[0;32m    529\u001b[0m                 raise ValueError(\"Complex data not supported\\n\"\n",
      "\u001b[1;32m~\\Anaconda3\\lib\\site-packages\\numpy\\core\\numeric.py\u001b[0m in \u001b[0;36masarray\u001b[1;34m(a, dtype, order)\u001b[0m\n\u001b[0;32m    499\u001b[0m \u001b[1;33m\u001b[0m\u001b[0m\n\u001b[0;32m    500\u001b[0m     \"\"\"\n\u001b[1;32m--> 501\u001b[1;33m     \u001b[1;32mreturn\u001b[0m \u001b[0marray\u001b[0m\u001b[1;33m(\u001b[0m\u001b[0ma\u001b[0m\u001b[1;33m,\u001b[0m \u001b[0mdtype\u001b[0m\u001b[1;33m,\u001b[0m \u001b[0mcopy\u001b[0m\u001b[1;33m=\u001b[0m\u001b[1;32mFalse\u001b[0m\u001b[1;33m,\u001b[0m \u001b[0morder\u001b[0m\u001b[1;33m=\u001b[0m\u001b[0morder\u001b[0m\u001b[1;33m)\u001b[0m\u001b[1;33m\u001b[0m\u001b[1;33m\u001b[0m\u001b[0m\n\u001b[0m\u001b[0;32m    502\u001b[0m \u001b[1;33m\u001b[0m\u001b[0m\n\u001b[0;32m    503\u001b[0m \u001b[1;33m\u001b[0m\u001b[0m\n",
      "\u001b[1;31mValueError\u001b[0m: setting an array element with a sequence."
     ]
    }
   ],
   "source": [
    "treeLimit = 5\n",
    "bestNumberTrees, accuracy, bestModel = rf.getbestnumberoftrees(feat, targets, treeLimit)"
   ]
  },
  {
   "cell_type": "code",
   "execution_count": null,
   "metadata": {},
   "outputs": [],
   "source": []
  }
 ],
 "metadata": {
  "kernelspec": {
   "display_name": "Python 3",
   "language": "python",
   "name": "python3"
  },
  "language_info": {
   "codemirror_mode": {
    "name": "ipython",
    "version": 3
   },
   "file_extension": ".py",
   "mimetype": "text/x-python",
   "name": "python",
   "nbconvert_exporter": "python",
   "pygments_lexer": "ipython3",
   "version": "3.7.1"
  }
 },
 "nbformat": 4,
 "nbformat_minor": 2
}
